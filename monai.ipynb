{
 "cells": [
  {
   "cell_type": "code",
   "execution_count": 1,
   "metadata": {},
   "outputs": [],
   "source": [
    "import os\n",
    "import shutil\n",
    "import tempfile\n",
    "import time\n",
    "import matplotlib.pyplot as plt\n",
    "import numpy as np\n",
    "import torch\n",
    "from tqdm import tqdm\n",
    "from monai.apps import DecathlonDataset\n",
    "from monai.config import print_config\n",
    "from monai.data import DataLoader, decollate_batch, ImageDataset\n",
    "from monai.handlers.utils import from_engine\n",
    "from monai.losses import DiceLoss, DiceCELoss\n",
    "from monai.inferers import sliding_window_inference\n",
    "from monai.metrics import DiceMetric\n",
    "from monai.networks.nets import SegResNet\n",
    "from monai.transforms import (\n",
    "    Compose,\n",
    "    Resize,\n",
    "    ToTensor,\n",
    "    ScaleIntensityRange,\n",
    ")\n",
    "from monai.networks.layers import Norm\n",
    "from monai.networks.nets import UNet\n",
    "from monai.utils import set_determinism\n",
    "from sklearn.model_selection import train_test_split\n",
    "\n",
    "from monai.transforms import Resize\n",
    "\n",
    "import nibabel as nib\n",
    "\n",
    "import torch\n",
    "\n",
    "# print_config()"
   ]
  },
  {
   "cell_type": "code",
   "execution_count": 2,
   "metadata": {},
   "outputs": [],
   "source": [
    "set_determinism(seed=0)"
   ]
  },
  {
   "cell_type": "code",
   "execution_count": 3,
   "metadata": {},
   "outputs": [],
   "source": [
    "# Make 3D segmentation model\n",
    "device_name = \"cuda:0\"\n",
    "device = torch.device(device_name)\n",
    "\n",
    "model = UNet(\n",
    "    spatial_dims=3,\n",
    "    in_channels=1,\n",
    "    out_channels=1,\n",
    "    channels=(32, 64, 128, 256),\n",
    "    strides=(2, 2, 2),\n",
    "    num_res_units=2,\n",
    "    norm=Norm.BATCH,\n",
    ").to(device)\n",
    "\n",
    "# model = SegResNet(\n",
    "#     spatial_dims=3,\n",
    "#     init_filters=8,\n",
    "#     input_channels=1,\n",
    "#     output_channels=1,\n",
    "#     norm_type=\"instance\",\n",
    "#     dropout_prob=0.2,\n",
    "# ).to(device)"
   ]
  },
  {
   "cell_type": "code",
   "execution_count": 4,
   "metadata": {},
   "outputs": [],
   "source": [
    "directory = \"\""
   ]
  },
  {
   "cell_type": "code",
   "execution_count": 5,
   "metadata": {},
   "outputs": [],
   "source": [
    "\n",
    "\n",
    "# Create a training data loader\n",
    "# Add a dimension to the image\n",
    "train_transforms = Compose(\n",
    "    [\n",
    "        lambda x: x.astype(np.float32),\n",
    "        lambda x: x[np.newaxis, :, :, :],\n",
    "        ToTensor(),\n",
    "        Resize((512, 512, 128)),\n",
    "        ScaleIntensityRange(a_min=-1024, a_max=3071, b_min=0.0, b_max=1.0, clip=True),\n",
    "    ]\n",
    ")\n",
    "train_transforms_seg = Compose(\n",
    "    [\n",
    "        lambda x: x.astype(np.float32),\n",
    "        lambda x: x[np.newaxis, :, :, :],\n",
    "        ToTensor(),\n",
    "        Resize((512, 512, 128)),\n",
    "    ]\n",
    ")\n",
    "\n",
    "ct_scans_directory = directory + \"data/train/volume\"\n",
    "segs_directory = directory + \"data/train/seg\"\n",
    "ct_scans = os.listdir(ct_scans_directory)\n",
    "segs = os.listdir(segs_directory)\n",
    "ct_scans.sort()\n",
    "segs.sort()\n",
    "\n",
    "# Train test split\n",
    "train_indexes, val_indexes = train_test_split(\n",
    "    list(range(len(ct_scans))), test_size=0.1, random_state=0\n",
    ")\n",
    "\n",
    "# Create a training data loader\n",
    "train_dataset = ImageDataset(\n",
    "    image_files=[ct_scans_directory + \"/\" + ct_scans[i] for i in train_indexes],\n",
    "    seg_files=[segs_directory + \"/\" + segs[i] for i in train_indexes],\n",
    "    transform=train_transforms,\n",
    "    seg_transform=train_transforms_seg\n",
    ")\n",
    "train_loader = DataLoader(\n",
    "    train_dataset,\n",
    "    batch_size=1,\n",
    "    shuffle=True,\n",
    "    num_workers=1,\n",
    "    pin_memory=torch.cuda.is_available(),\n",
    "    pin_memory_device=device_name\n",
    ")\n",
    "\n",
    "# Create a validation data loader\n",
    "# val_transforms = Compose(\n",
    "#     [\n",
    "#         LoadImaged(keys=[\"image\", \"label\"]),\n",
    "#         EnsureChannelFirstd(keys=[\"image\", \"label\"]),\n",
    "#         Spacingd(\n",
    "#             keys=[\"image\", \"label\"],\n",
    "#             pixdim=(1.5, 1.5, 2.0),\n",
    "#             mode=(\"bilinear\", \"nearest\"),\n",
    "#         ),\n",
    "#         Orientationd(keys=[\"image\", \"label\"], axcodes=\"RAS\"),\n",
    "#         EnsureTyped(keys=[\"image\", \"label\"]),\n",
    "#         NormalizeIntensityd(keys=[\"image\"], nonzero=True, channel_wise=True),\n",
    "#     ]\n",
    "# )\n",
    "\n",
    "# Create a validation data loader\n",
    "val_dataset = ImageDataset(\n",
    "    image_files=[ct_scans_directory + \"/\" + ct_scans[i] for i in val_indexes],\n",
    "    seg_files=[segs_directory + \"/\" + segs[i] for i in val_indexes],\n",
    "    transform=train_transforms,\n",
    "    seg_transform=train_transforms_seg\n",
    ")\n",
    "\n",
    "val_loader = DataLoader(\n",
    "    val_dataset,\n",
    "    batch_size=1,\n",
    "    num_workers=1,\n",
    "    pin_memory=torch.cuda.is_available(),\n",
    "    pin_memory_device=device_name\n",
    ")"
   ]
  },
  {
   "cell_type": "code",
   "execution_count": 6,
   "metadata": {},
   "outputs": [],
   "source": [
    "# Set loss function, optimizer and learning rate scheduler\n",
    "loss_function = DiceLoss(sigmoid=True)\n",
    "#loss_function = DiceCELoss(to_onehot_y=True, softmax=True)\n",
    "optimizer = torch.optim.Adam(model.parameters(), 1e-3)\n",
    "lr_scheduler = torch.optim.lr_scheduler.StepLR(optimizer, step_size=50, gamma=0.1)\n",
    "scaler = torch.cuda.amp.GradScaler()"
   ]
  },
  {
   "cell_type": "code",
   "execution_count": 7,
   "metadata": {},
   "outputs": [
    {
     "name": "stderr",
     "output_type": "stream",
     "text": [
      "  0%|          | 0/20 [00:00<?, ?it/s]"
     ]
    },
    {
     "name": "stdout",
     "output_type": "stream",
     "text": [
      "1/20, batch_train_loss: 0.9930\n",
      "1/20, batch_train_loss: 0.9966\n",
      "1/20, batch_train_loss: 0.9959\n",
      "1/20, batch_train_loss: 0.9991\n",
      "1/20, batch_train_loss: 0.9967\n",
      "1/20, batch_train_loss: 0.9971\n",
      "1/20, batch_train_loss: 0.9774\n",
      "1/20, batch_train_loss: 0.9964\n",
      "1/20, batch_train_loss: 0.9940\n",
      "1/20, batch_train_loss: 0.9949\n",
      "1/20, batch_train_loss: 0.9987\n",
      "1/20, batch_train_loss: 0.9984\n"
     ]
    }
   ],
   "source": [
    "# Training\n",
    "max_epochs = 20\n",
    "val_interval = 2\n",
    "best_metric = np.inf\n",
    "best_metric_epoch = -1\n",
    "epoch_loss_values = []\n",
    "metric_values = []\n",
    "\n",
    "for epoch in tqdm(range(max_epochs)):\n",
    "    epoch_loss = 0\n",
    "    for batch_data in train_loader:\n",
    "        model.train()\n",
    "        inputs, segs = (\n",
    "            batch_data[0].to(device),\n",
    "            batch_data[1].to(device),\n",
    "        )\n",
    "        optimizer.zero_grad()\n",
    "        with torch.cuda.amp.autocast():\n",
    "            outputs = model(inputs)\n",
    "            loss = loss_function(outputs, segs)\n",
    "        scaler.scale(loss).backward()\n",
    "        scaler.step(optimizer)\n",
    "        scaler.update()\n",
    "        epoch_loss += loss.item()\n",
    "        print(f\"{epoch + 1}/{max_epochs}, batch_train_loss: {loss.item():.4f}\")\n",
    "    print(f\"epoch {epoch + 1} average loss: {epoch_loss / len(train_loader):.4f}\")\n",
    "    epoch_loss_values.append(epoch_loss / len(train_loader))\n",
    "    lr_scheduler.step()\n",
    "\n",
    "    if (epoch + 1) % val_interval == 0:\n",
    "        model.eval()\n",
    "        with torch.no_grad():\n",
    "            value_total = 0\n",
    "            for val_data in val_loader:\n",
    "                val_inputs, val_segs = (\n",
    "                    val_data[0].to(device),\n",
    "                    val_data[1].to(device),\n",
    "                )\n",
    "                val_outputs = model(val_inputs)\n",
    "                value = loss_function(val_outputs, val_segs)\n",
    "                value_total += value.item()\n",
    "                print(f\"{epoch + 1}/{max_epochs}, validation_dice: {value.item():.4f}\")\n",
    "            metric_values.append(value_total / len(val_loader))\n",
    "            if value_total < best_metric:\n",
    "                best_metric = value_total\n",
    "                best_metric_epoch = epoch + 1\n",
    "                torch.save(\n",
    "                    model.state_dict(),\n",
    "                    os.path.join(directory, \"model/best_metric_model.pth\"),\n",
    "                )\n",
    "                print(\"saved new best metric model\")\n",
    "            print(\n",
    "                f\"{epoch + 1}/{max_epochs}, mean validation_dice: {value_total/len(val_loader):.4f}\"\n",
    "                )\n",
    "\n",
    "print(\n",
    "    f\"train completed, best_metric: {best_metric:.4f} at epoch: {best_metric_epoch}\"\n",
    ")\n",
    "\n",
    "        "
   ]
  },
  {
   "cell_type": "code",
   "execution_count": null,
   "metadata": {},
   "outputs": [],
   "source": [
    "# Save last model\n",
    "torch.save(\n",
    "    model.state_dict(),\n",
    "    os.path.join(directory, \"model/model_last_epoch.pth\"),\n",
    ")"
   ]
  },
  {
   "cell_type": "code",
   "execution_count": null,
   "metadata": {},
   "outputs": [
    {
     "data": {
      "image/png": "[encoded data removed]",
      "text/plain": [
       "<Figure size 1200x600 with 2 Axes>"
      ]
     },
     "metadata": {},
     "output_type": "display_data"
    },
    {
     "data": {
      "text/plain": [
       "<Figure size 640x480 with 0 Axes>"
      ]
     },
     "metadata": {},
     "output_type": "display_data"
    }
   ],
   "source": [
    "# Plot the loss and metric\n",
    "plt.figure(\"train\", (12, 6))\n",
    "plt.subplot(1, 2, 1)\n",
    "plt.title(\"Epoch Average Loss\")\n",
    "x = [i + 1 for i in range(len(epoch_loss_values))]\n",
    "y = epoch_loss_values\n",
    "plt.xlabel(\"epoch\")\n",
    "plt.plot(x, y)\n",
    "plt.subplot(1, 2, 2)\n",
    "plt.title(\"Val Mean Dice\")\n",
    "x = [val_interval * (i + 1) for i in range(len(metric_values))]\n",
    "y = metric_values\n",
    "plt.xlabel(\"epoch\")\n",
    "plt.plot(x, y)\n",
    "plt.show()\n",
    "plt.savefig(directory + \"model/loss.png\")"
   ]
  },
  {
   "cell_type": "markdown",
   "metadata": {},
   "source": [
    "# Test a model"
   ]
  },
  {
   "cell_type": "code",
   "execution_count": null,
   "metadata": {},
   "outputs": [],
   "source": [
    "# model_loaded = UNet(\n",
    "#     spatial_dims=3,\n",
    "#     in_channels=1,\n",
    "#     out_channels=1,\n",
    "#     channels=(32, 64, 128, 256),\n",
    "#     strides=(2, 2, 2),\n",
    "#     num_res_units=2,\n",
    "#     norm=Norm.BATCH,\n",
    "# ).to(device)\n",
    "\n",
    "# model_loaded.load_state_dict(\n",
    "#     torch.load(os.path.join(directory, \"model/best_metric_model.pth\"))\n",
    "# )"
   ]
  }
 ],
 "metadata": {
  "kernelspec": {
   "display_name": "pscc",
   "language": "python",
   "name": "python3"
  },
  "language_info": {
   "codemirror_mode": {
    "name": "ipython",
    "version": 3
   },
   "file_extension": ".py",
   "mimetype": "text/x-python",
   "name": "python",
   "nbconvert_exporter": "python",
   "pygments_lexer": "ipython3",
   "version": "3.9.18"
  }
 },
 "nbformat": 4,
 "nbformat_minor": 2
}
